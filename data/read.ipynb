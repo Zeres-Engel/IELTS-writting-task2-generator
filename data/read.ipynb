{
 "cells": [
  {
   "cell_type": "code",
   "execution_count": 15,
   "metadata": {},
   "outputs": [
    {
     "name": "stdout",
     "output_type": "stream",
     "text": [
      "<class 'dict'>\n",
      "107\n"
     ]
    }
   ],
   "source": [
    "import json\n",
    "\n",
    "with open('full_data.json') as f:\n",
    "    data = json.load(f)\n",
    "    print(type(data))\n",
    "    \n",
    "cnt = 0\n",
    "for part in data:\n",
    "    cnt += len(part)\n",
    "print(cnt)"
   ]
  }
 ],
 "metadata": {
  "kernelspec": {
   "display_name": "Python 3",
   "language": "python",
   "name": "python3"
  },
  "language_info": {
   "codemirror_mode": {
    "name": "ipython",
    "version": 3
   },
   "file_extension": ".py",
   "mimetype": "text/x-python",
   "name": "python",
   "nbconvert_exporter": "python",
   "pygments_lexer": "ipython3",
   "version": "3.10.11"
  },
  "orig_nbformat": 4
 },
 "nbformat": 4,
 "nbformat_minor": 2
}
